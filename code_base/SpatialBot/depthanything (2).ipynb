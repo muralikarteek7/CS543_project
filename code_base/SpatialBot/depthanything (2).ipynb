{
  "nbformat": 4,
  "nbformat_minor": 0,
  "metadata": {
    "colab": {
      "provenance": []
    },
    "kernelspec": {
      "name": "python3",
      "display_name": "Python 3"
    },
    "language_info": {
      "name": "python"
    }
  },
  "cells": [
    {
      "cell_type": "code",
      "execution_count": null,
      "metadata": {
        "colab": {
          "base_uri": "https://localhost:8080/"
        },
        "id": "nV3bOgpUg76M",
        "outputId": "fb5b4d77-3ede-4539-a70e-210f268ee935"
      },
      "outputs": [
        {
          "output_type": "stream",
          "name": "stdout",
          "text": [
            "Requirement already satisfied: torch in /usr/local/lib/python3.10/dist-packages (2.5.1+cu121)\n",
            "Requirement already satisfied: torchvision in /usr/local/lib/python3.10/dist-packages (0.20.1+cu121)\n",
            "Requirement already satisfied: transformers in /usr/local/lib/python3.10/dist-packages (4.46.3)\n",
            "Requirement already satisfied: pillow in /usr/local/lib/python3.10/dist-packages (11.0.0)\n",
            "Requirement already satisfied: matplotlib in /usr/local/lib/python3.10/dist-packages (3.8.0)\n",
            "Requirement already satisfied: opencv-python in /usr/local/lib/python3.10/dist-packages (4.10.0.84)\n",
            "Requirement already satisfied: filelock in /usr/local/lib/python3.10/dist-packages (from torch) (3.16.1)\n",
            "Requirement already satisfied: typing-extensions>=4.8.0 in /usr/local/lib/python3.10/dist-packages (from torch) (4.12.2)\n",
            "Requirement already satisfied: networkx in /usr/local/lib/python3.10/dist-packages (from torch) (3.4.2)\n",
            "Requirement already satisfied: jinja2 in /usr/local/lib/python3.10/dist-packages (from torch) (3.1.4)\n",
            "Requirement already satisfied: fsspec in /usr/local/lib/python3.10/dist-packages (from torch) (2024.10.0)\n",
            "Requirement already satisfied: sympy==1.13.1 in /usr/local/lib/python3.10/dist-packages (from torch) (1.13.1)\n",
            "Requirement already satisfied: mpmath<1.4,>=1.1.0 in /usr/local/lib/python3.10/dist-packages (from sympy==1.13.1->torch) (1.3.0)\n",
            "Requirement already satisfied: numpy in /usr/local/lib/python3.10/dist-packages (from torchvision) (1.26.4)\n",
            "Requirement already satisfied: huggingface-hub<1.0,>=0.23.2 in /usr/local/lib/python3.10/dist-packages (from transformers) (0.26.5)\n",
            "Requirement already satisfied: packaging>=20.0 in /usr/local/lib/python3.10/dist-packages (from transformers) (24.2)\n",
            "Requirement already satisfied: pyyaml>=5.1 in /usr/local/lib/python3.10/dist-packages (from transformers) (6.0.2)\n",
            "Requirement already satisfied: regex!=2019.12.17 in /usr/local/lib/python3.10/dist-packages (from transformers) (2024.9.11)\n",
            "Requirement already satisfied: requests in /usr/local/lib/python3.10/dist-packages (from transformers) (2.32.3)\n",
            "Requirement already satisfied: tokenizers<0.21,>=0.20 in /usr/local/lib/python3.10/dist-packages (from transformers) (0.20.3)\n",
            "Requirement already satisfied: safetensors>=0.4.1 in /usr/local/lib/python3.10/dist-packages (from transformers) (0.4.5)\n",
            "Requirement already satisfied: tqdm>=4.27 in /usr/local/lib/python3.10/dist-packages (from transformers) (4.66.6)\n",
            "Requirement already satisfied: contourpy>=1.0.1 in /usr/local/lib/python3.10/dist-packages (from matplotlib) (1.3.1)\n",
            "Requirement already satisfied: cycler>=0.10 in /usr/local/lib/python3.10/dist-packages (from matplotlib) (0.12.1)\n",
            "Requirement already satisfied: fonttools>=4.22.0 in /usr/local/lib/python3.10/dist-packages (from matplotlib) (4.55.3)\n",
            "Requirement already satisfied: kiwisolver>=1.0.1 in /usr/local/lib/python3.10/dist-packages (from matplotlib) (1.4.7)\n",
            "Requirement already satisfied: pyparsing>=2.3.1 in /usr/local/lib/python3.10/dist-packages (from matplotlib) (3.2.0)\n",
            "Requirement already satisfied: python-dateutil>=2.7 in /usr/local/lib/python3.10/dist-packages (from matplotlib) (2.8.2)\n",
            "Requirement already satisfied: six>=1.5 in /usr/local/lib/python3.10/dist-packages (from python-dateutil>=2.7->matplotlib) (1.17.0)\n",
            "Requirement already satisfied: MarkupSafe>=2.0 in /usr/local/lib/python3.10/dist-packages (from jinja2->torch) (3.0.2)\n",
            "Requirement already satisfied: charset-normalizer<4,>=2 in /usr/local/lib/python3.10/dist-packages (from requests->transformers) (3.4.0)\n",
            "Requirement already satisfied: idna<4,>=2.5 in /usr/local/lib/python3.10/dist-packages (from requests->transformers) (3.10)\n",
            "Requirement already satisfied: urllib3<3,>=1.21.1 in /usr/local/lib/python3.10/dist-packages (from requests->transformers) (2.2.3)\n",
            "Requirement already satisfied: certifi>=2017.4.17 in /usr/local/lib/python3.10/dist-packages (from requests->transformers) (2024.8.30)\n"
          ]
        }
      ],
      "source": [
        "pip install torch torchvision transformers pillow matplotlib opencv-python"
      ]
    },
    {
      "cell_type": "code",
      "source": [
        "from transformers import pipeline\n",
        "from PIL import Image\n",
        "import numpy as np\n",
        "import matplotlib.pyplot as plt\n",
        "\n",
        "# Load pipeline with GPU support if available\n",
        "pipe = pipeline(\n",
        "    task=\"depth-estimation\",\n",
        "    model=\"LiheYoung/depth-anything-small-hf\",\n",
        "    device=-1  # Use CPU (-1) or specify GPU index\n",
        ")\n",
        "\n",
        "# Load and preprocess the image\n",
        "image_path = \"/content/rgb.jpg\"\n",
        "image = Image.open(image_path).convert(\"RGB\")\n",
        "\n",
        "depth = pipe(image)[\"depth\"]\n",
        "\n",
        "depth_array = np.array(depth)\n",
        "\n",
        "depth_normalized = (depth_array - depth_array.min()) / (depth_array.max() - depth_array.min())\n",
        "\n",
        "depth_gray = (depth_normalized * 255).astype(np.uint8)\n",
        "depth_image = Image.fromarray(depth_gray)\n",
        "depth_image.save(\"depth_map.png\")\n",
        "\n",
        "# # Apply a color map and save\n",
        "# plt.imsave(\"depth_map_colored.png\", depth_normalized, cmap='plasma')\n"
      ],
      "metadata": {
        "id": "6sQzu3lhhONs"
      },
      "execution_count": null,
      "outputs": []
    },
    {
      "cell_type": "code",
      "source": [
        "depth_gray"
      ],
      "metadata": {
        "id": "fIDzxmbPk181",
        "colab": {
          "base_uri": "https://localhost:8080/",
          "height": 416
        },
        "outputId": "b22aea96-bf1d-483b-b433-643b4979a821"
      },
      "execution_count": null,
      "outputs": [
        {
          "output_type": "execute_result",
          "data": {
            "text/plain": [
              "array([[  1,   1,   1, ...,   1,   1,   1],\n",
              "       [  1,   1,   1, ...,   1,   1,   1],\n",
              "       [  1,   1,   1, ...,   1,   1,   1],\n",
              "       ...,\n",
              "       [241, 239, 239, ..., 250, 250, 249],\n",
              "       [242, 240, 241, ..., 250, 251, 252],\n",
              "       [212, 240, 242, ..., 250, 251, 234]], dtype=uint8)"
            ],
            "text/html": [
              "<style>\n",
              "      .ndarray_repr .ndarray_raw_data {\n",
              "        display: none;\n",
              "      }\n",
              "      .ndarray_repr.show_array .ndarray_raw_data {\n",
              "        display: block;\n",
              "      }\n",
              "      .ndarray_repr.show_array .ndarray_image_preview {\n",
              "        display: none;\n",
              "      }\n",
              "      </style>\n",
              "      <div id=\"id-9336726a-79db-414b-95dd-6118dfc37590\" class=\"ndarray_repr\"><pre>ndarray (375, 500) <button style=\"padding: 0 2px;\">show data</button></pre><img src=\"data:image/png;base64,iVBORw0KGgoAAAANSUhEUgAAAfQAAAF3CAAAAAB2meYgAAAxjElEQVR4nO19W5PlNpJeJshT3WpdWhp5VpqdtXYj9sGKsP//j3GE/bDhXXt3NJoZSX2pOodMP4AAcckEEiBPddlkzqjrEJcEiA95A0EQEU46GplP3YGTnp9O0A9IJ+gHpBP0A9IJ+gHpBP2AdIJ+QDpBPyCdoB+QTtAPSCfoB6QT9APSCfoB6QT9gHSCfkA6QT8gnaAfkE7QD0gn6AekE/QD0gn6AekE/YB0gn5AOkE/IJ2gH5BO0A9IJ+gHpBP0A9IJ+gHpBP2AdIJ+QDpBPyCdoB+QTtAPSCfoB6QT9APSCfoB6QT9gHSCfkA6QT8gnaAfkE7QD0gn6AekE/QD0gn6AekE/YB0gn5AOkE/IJ2gH5BO0A9IJ+gHpBP0A9IJ+gHpBP2AdIJ+QDpBPyCdoB+QTtAPSCfoB6QT9APSCfoB6QT9gHSCfkA6QT8gnaAfkE7QD0gn6AekE/QD0gn6AekE/YB0gn5AOkE/IJ2gH5BO0A9IJ+gHpBP0A9IJ+gHpBP2AdIJ+QDpBPyCdoB+QTtAPSCfoB6QT9APSCfoB6QT9gHSCfkA6QT8gnaAfkE7QD0gn6AekE/QD0gn6AekE/YB0gn5AOkE/IJ2gH5BO0A9IJ+gHpBP0A9IJ+gHpBP2AdIJ+QDpBPyCdoB+QTtAPSFi5PukORNUSdRjqPArcBzJLE0RAALSJ3Qsl3DZIexH6vwiImGTQggBUYUCwDBARbWUERAejawDIc0EAICIgIiI042syiL6GrwYU/Mc0StElrRnpTSY8yF2Rv0lc/rf0PupFOASEQYYdt7VO3nLecfJ/Cch3xHdpGQRchk2giInt1DrYgA4/WHBxKbhmsh124xT2aQVsSUQI2K04Y1IOIUmI2iGA8bLMl7BoNF78jFOZAYp+xFch3wKzdRDWCuttK7uyjF7SgZSCAYyTowku30XUmxUIzDNLvRD4iddMSgZ/2rdxQAwGUGJcbSijgrjYeYV5rjwM4VRkwCl2h7LZURnIYraTZJ+YdjqVO6F/VOp0pUN5aSq3mfweDWCZqRtvdopRWipph9xFOkwhcrEIrxS2SgJmCo2TcWXqNPqv5R6oBChMZyBjBVgWJKFJfhrgiHmZXOC4lnKBQ07ZUZ7H3R7vOlBeJnV/mG6V9aZCP8q9Cy6EwcLkr4YUs1CwPUpuCY28F1Q1OJUJF6FF8Q+5pjxnsjZL49RmOYUJHc2wguwK8ieOvGZwFYZcVVMasFEWGEck5hTaZr372g2zqoKtoh+VRsXta3SOs5RUU4kFZtqulMYkzhv3cNqESqG4J3ZbumkW40wL9AtClfZgpTAg6mZ0IlZOyiz7qG29g0IEEzRlRSJNC41D1E33nDW9vKvetS6bK8lK+oZlQgYr2cMPWNXFu6UXOtoRap7fHfBuVMy8wLOSnnMm7R0wPi0mfp20yMfkuDYb4olnpU3otFXrMMOiileq99ZbSOQ0tfCW1FLfoM12pH6uQs0+hppaNV8yseqBeu94JCHD53JLMs5ohWJ6qQdbaM85s6cGqtZTqQVGAYxC7hp8aiK2MDEHtqLcO7GvDckzK/sd0S5Xa5oKDTY9KtGl2bMIK1XuogqXsFe2+6y0u0nfyBDly9imY4dWV7YvA18Q4xbdHtW4A+0uqR0Mm/xnKSm16WtCC/pZI5JHXgIetmJ/z/B6TzZ3UfPFAiWjztv0ZBFF9eBbmjoK4KGOfXlBTkHPoPufzag35bMan1PvBdNQJ8Zk86pdXFFnpbszcHkOer4ATcWy7sfdaxkWy1782gn5YYre2nwasEut7qyLOn1ZSeCdTb+DN5fhzqSUhLsg9lGJu9Edwut2lv2xi6zjnaTzprapJ5LM5vtp9Ctxzy/FG9uTqvew3WTRCpBnjlzf3okoi1s/1yn29mitg545wOtqbrMDIyp2+yex6QEeW7RbHfg9bXpa89lpR1duQ5jGleDRZxdnNg+eFvgSwpLmEIp9ItpNn28N07hSgsDjJu+9KJOc+Radxo3B2t0obVylAxU9bripbldONutdoEuhAS/I7Q/J72vVFaTxj9oL7C79pWKlBZqxLK5tveBZSeJdddmfF/vtGmW/WK15FaaQlWp8CiRd1MbtJIp3I8AFDSKVzEi1hryd9gvVtntynL8eXGCq3r1+vYsrpwF4b7N+d4/g2eDukX5Bx/M2vcMVUa3NRFVL+H5yq16lXYz35oC8WEw06x2OHN8LCa0+y/2Jsb+ratndc6+uCqXy3wS6WgG0bGguKfawwbtPgLt6cq38t80d2awDANZ2zuzoytXEtxavtXeleVftBtoP782rAEXEAQlgBOnFqq0DVPPXK5K/g2A/z7LOfoFauXyP/ed0/OK9dwwOX6Xl8RlU4NXHa5+MdlyI2Qx3xZGLs9sdufrMbnDmIoYqjfM8c2CLktDX7QiS1EV2cuSaApGeJygq4S71on1C7GwBNnjbzeW2OHIbmq3XrCy11GS/FcS4u8+7J2P7SpquaGM7rJUXvfdmvdKx5akGfy/4Kff70p5wb3IL8wKCjh8BsHXRtWJEWt9PillW5fMlOXY7eu57412w6jhC5XCptsZ9ofLWjAJwVcMu9mG32VBvYbuzrS7fmVu06nVHrk9LFpbgEp67GXbd8t09/fI912CKRVpmQr48UwK9Vad0boqoKYAuw/5c9rypuabwp4sDAzCXkIGOAMXDDOWmZXS0Cy3Fclyrn96+b9HNbRXaWxIl3nnvhVhe225cSvFgXKGDm3ZFPusU2BRWtdXp8iAKOj58a7WrzUqthqc523V7fQGAaXZX6mDd6xPqs/KSJUduu1FvAU2n23XSnPl0d7fxu0Zoxfy2WcKULjhyHZOsgExLpF0U2HbLfme8d/bYu/V83aiv12NyoGd3h7Ji+qipGtlt8f/uR3tb9V6OFb+auRoBad8ANK1TR6IaYKOSU1d010P7493jPaurpEZeOhC41iCfu90cl3R7LaLPCj7n1plu5j3D3zIRmhZntnRGt5FZaYtVQfunfCOqt5kufdGUIUwBbnGmpy98sVYXq1+5KyLE/ekeaO+hztlUZnFmi53C7s2Ocjt9a7rPB30F7701vQrWQkacMALK77Popb7iiyllmq3BviBV5HJX6O/h83Zo84b0fAaIGyM7tEyc3xw9d2iLUvjPQy+2u8n+b6ncLnF6vLgpQJwj1+3Mi4WVMqfTFpXwXwFyqd022uooNiptKU/JBv2fsViu2ouSqBXqqyNucRuOxAQ13PegbYC3j7RKcSuLLo5c85yrBAgNT8e6Azdxwt0feK3+iHtRXgZrU/MNsyZPE5+y9Tl3eSm9UK9UMN9FbULx9f7Ay9qV34MgR00Kxk2lG6ZGi03v1GcqAyDWadPumEl8B+4t94nMr+0t7qLk89Q1pWrTO/y6HR61ZBW023GKuGN9V5Ca7sSmabj14p3E6czOmWoHKjes1+0Co7YH86niz3Gvt6imhfkOkOsdM6XLrp8Ckk1vjyYq5VsUbbN8LznRFuW7uHIIwiyiLKXyAkc9o8Gmt4g8F6dv8eN1rzNoSqeVdKuykYz3WXRdd/LLhoCqkXMlp9miY2zT2zpeLt2CaEqldVzBswtkPLXhu5EamE2MW3x2LWBpYiFOb4zl5FKtA1/yCYS8QJ/Hqr3wLduGflTTe7+Eo3I4VOAoDT/YkE1duntqsxXbtlSIws+H5iHwcswoxhKCKcoNeqQ0GVJtBRDTtXNAh2CQwJ4CrWm6mLVFubPVReFP/CgUFL2m1UKm5UQI4RPJuhDoMVeGGCq8FSFbqXBvzLZJuUMBYjFvFe1I3nVtI99SXIJCSVcqPUwUi7AMi+xPsYyUolfZok3fTcHrFV+pclN8jqGaj56dss2W9xPQ+g9C+IpvUksh1jU92q3PlXi7l9IZm94g8WxWm7XmqbD8yir4FWSKfwR/JV/eCS9lqQgAhASrzEYqTNDJXSsSKrWvSijJ65LDnw1b7kk5p+A56Ukh4VEuo94dxqEqyxQ+xr+DXLde66SD7CzAIIunrjvWDHyfhueSRjFXOfUqtNG6V+QnUtmBeped9AT2cEk1mw+IjuXwcLkMCNN0u96I0gaSes2aTuEbVsFp8uhG3r3QizyIo6bqhEQl/Z5kB8iHWphS2Q0qCh5VVAjRIALQjJc3X3395evR0PT44bdf379/KgR3MefV6xcroJTBlClz0CelLzs0oK1ofY+FkYIdzr04p9yRnMcd40MYCjdGtdH+QkAARDQGAYhwfPPt79++GpZSt4+//PXnXz7MxMcOyTyLWrO/MLA5oMGc1wlCLZ1Hh/+lgWUxuULb10NlDqnP5i8JAIxBICICQCAKVQKiMcYYNAYRERCXBIMGEYnmeZrh4avfffUA5OcEwO23n3/667sncq4e0xsPNZphvIyDQQSap9vtdqV5KcQrdbUX1ecFAAIh4I/E5iudwvtRfZKQcEVejogun3/++jLAfLten67XaVokFBHNeHl49XC5jMZibsnijYBANM3zjMPrzy6QDBHO7//25z//+jiDSTuyWg9jLpeHh4eHh4fLZRgW0K9PHz5++PB4o0gb8L8jalXw5RT8sVq+y4UH2O9hR5EPMb/ctXn7/defXQwC0XS7Pj09Pl5vEwGiGS+vXj1cxtEY76wxjBGHcURGohGefvvbz798vM0EZPUHLtrCGDMMl/FyebhcLpdhHBBWJUE0Pz1+/PD+/fsPT7MV9tTSMLRVwedlfizkSj3pkfnM9aoVaimS6XUEIDR/+Me3A5DXtfM8TdNsxXAwAxL5mrzfiMaMxiAHDOL08cP7D4/THBkKRGNwsIQQmJOQ73x9/Pjx3bvf3l0XF68sx0JOn25e1LuexzMreFBMgkyzekLAP/7zlzBn082tsFk8eHdgEU2DgxkQQ4mMCk3WXtjgbpHowKmLGvBBhrU9ND19/PDr33754I07lsN/TQSgTRkVFbr1+2YFX/Hh15GMy9rB//afPl+lPJDoGIo4yAv4oNPYDs6kXSIw5uK4EVDeyXzPM7omcbx8Pt8+vv/rz3+7ZjfL3yZbqEtWu1bk1BLfqxpyiFlOGWDrNeJnP3whhHtO3Ow/YtC9+HXAqvewYoZ5FJDx90IAgJfLF7/7wy//8edHH8blKzuiQa9480Jasl3qJen3qB1ZXfByDkgIOHz3TXDobT6WHnVhCc158+gwZ1SiWxFYVwbWJeBoSkKQE/UXL+Obb3796ad3Tieg9UiY1SNZ2tvUO/Ircnr9Xp8EO3jwlRnAyDkCwJffX+JxWssEYk5ZZtAmOv2ediJi5H5hijengNY/5AAeh9df//EvP/1yJSQf4KsR71XvogIReMjJm0pmVFyKiwt5hemCdLx8/wa9AbVlAtTtkLt/2G4ugs63GvK0oo4Bs2AaBRUzR9NHGcPw6ss/vP/Lz79c58odF6DSKubkrdWXpN+TtooaPlKjzof+9tsLWj0fIhEU9oadZb6sz3lHjulaaBq8juce/6S3E04+tzJ3GV+//fvf/vzTu8kzTMegwZvrUe9qgVfOAWZUpYolJ10qnKlRAvz87z8DB1d+aJrT7OtT1wwfBIgxz20eBT9i9R4hxrtm69ywkwXRjJ/97oef//dfrkv7uoVahbznqRX1ruRSpobSTNEWP25Z5MKHP74dMJjbmWpdEMds4jh9jmCMWV132auh+D/HLRJn5kYSp8+mmcvn3//1X3+6EgVBO2bVmPQm9U74X+Uin1q/MyTMgFiWcfzDP36WdpXyGsTmwKLczWDKbtxSMQr9iSlQuYM0YfrLv/x8dc8IAnGX8VYhFyaNsR5pYSOmitT29iBva9kyTpFaOR//7j9nmKc2NpBMRhGsmLOtBjySq9hUcF5JpNy55of/9PZP//q3pxlo8U+KCl2l3rNS/61SaRe0t1Mp9IvH3ozf/fDG9jBzprLnM5QlL5gPxniDLt+s55GJOd9fRt3klwjw/t/+7VfryceLs/t477SCXlEJBT5J1g6huY4yQBEA8fL9D6+dLyb0ZtXL6SSABPOVj9yFlQ975xV9TumFbe5P/+PniRCXu2p0vNgeB4nM2ruOcWPiBhInUaopERDw8t0Pn4Xd4EIy9P57vLPGOdJolJjbitxSQNLLuJvJFQRC7n589/q///vkCpQQl/w8uVB+YqRSvz+neo/a4gMgm4UAOPzuH94QRJ8dQ6Yau/buLOiCOSgwj+I2vqmAdWzYY+jjwJzg6x/nP80YvFRTUed6rxtpLBXQWngmXaPja3pTUyeWGcQ3331BANmCSu6srWKeWn5ctkRGj9cy/yvgw2y+FZEn6TLdpjt99eP0s9uSVRZnlXYPUnGTelcY+F7K65ckCGkJQsZvvhaeS6eqN3mHIRDCZfWV8Z9kQWaR5zqesAgvE9int//89G6OWVekUCuSVfX+ybV7sU0XdC3SgK+/eSXFhZlAJ2B4VvYxC3gRi9l5/RuwSbwDtuOpGY+NCjFdmn//6/+8+h0BbC8KCSWQ2s6cqSkOmYLFqlYqWQo/oIum/uLLUgOJYY0187IevbzjEEwkiVXmJxS7ms05zqYnE+ePf/lpQsg9FOauCvl5uvL99M3yvkE3yFXDmYRACJcvXwdVZIPAm9Jl4qzPU8utY1ozVwNZy6x2CRuPSrz+4dcP3kHMulLx7ArJ5Z0z91XuNT5VZ9Ax8Mrq9VfDvKbLLxhhLmSen1uHw9yFYrkwrZSceBF2/8AmUEXf/v5/Tbm+qaNUGVnJkdMq93tad5E3JVLjBNt88bmyQ7EbF06B2sYJLUlCX4I9s+zDH396tzKr2W21X818zqM1AthOoq9bLL/WcnsYHr56pakOkMhnrGcxQLx8l5VlGc+A0iSh8fBhgN0P8vb3H7gIVIVR3ZFjS2lZ3WsCcCQseiEQ4JuvosGvm4dAsUf+bPsNFd9VzVw8TGCHROdYz40QzPf//hGwcGizzrDDanKQkJSHB95f2rXEt0kACOMXb0g8VSLjw8bt4OK1ijnPmVTOOsnPPGDjx3Ty0dtv/g8BYN6XHoAWFYa1wwNbPLlQ38rUM1MULh0hPHz1oMacYbG+o9jHJHYruWzFOkGsfRDHv/vT5NEqtcpfci0AjEj+QXCtul6z760CqvwIAcybt7oDAQK+iZaF5GkqOwa1Ngq+uxyx5cK+0DefvQNEyA7G6ZB0fzUyXoLGJ9wCa2tdZgSdf4TuTBhAGL9804g517fCPndwE8P3SI4JJeejJOyU/0B4ePthEUodENLgBlMRS99arYUI5Vb2o9J9uDlLCK++MttBt857sUWI0ZL99jrsyVWGOgCYr/9j4t6sUki6KMyaFblPKuupv8WUsA9bzOvPizXLfB13ZHymNh4hNxb2wqpc5sUDwOfDZDHfYtMx6HDlFGitF3dPYa/zXgI28/o1tUo6s3QiDy9fu+yza3Q8B3vgzr2+XINRELumcsGWpBGJ/RpfVdGXOqAhdeVoSKQyCDC+GcJlNj3XuFuVzZApiz5hr8O+qvrLq/fhclHOq3TJp42puagrdr0TvwuVWTu/FmF83cCUgn9jfpgVC1Iy6ajPMOH1yCrsvp55tSJUCsjqKZ6WkK3swFcsRQ+1VeWDypAVwviKh4C7OwFzTEG3xXLUKfivRsKqTcmRD/dxIT7IjwIqsAm18pDtxUk6yx4zKcRxjPUtrX/SfRWinANyBj2sTi700WIuk+C6p0n4sM7EWlRRSgnISnqfoHdDvcsUCfAmBDDDwGHgocckTVg+8eUiTR5Uj+bSRmIeqGe/CS68blc51PxIFyVd77/dP1hn2lqPawECHEysiKXqspiXHPfEmu+COYhIR4mjIR52X6Z4uSZ733BEbrlaEaaXc/asUuWFBAhouEHLk8o+t9y9RPL3wVyBOsBoJshQ6jHw/jpdnEH2ZyXxGQU9dq4DCUATlcvkmZhfNf4Jx0jFN2BefuxalXVj5sKuDhFZIZVQ2DlTV/G1rI2Fm3ha14qJtXgSsrK3h3INGJ4qs4+cqyg4yc5T3XqX/DB57V3lKJTTOyjwKqXnLHwdDvPUk1/zhSCO4R9FfCLDIukL86Ject4rWl925AoFd5DzxhmBzK9aeXZNMYB+JiJyR3mvWczsCieP/xREtkqwq5hXlxDRVM11LdiKpy1K26V0HqEiU08F3MoNZZIe2ly63aZpngFwuFxMATv7OnjKZv3NyPsupOAmSnrJ4S4Y90zS95XzrfOhaFC8BCIQwkzBk1Un5NP18ek6EQEgDg+fPQyVbhX6S0Gr66Pp+i1smSPILS1l7SovVuK3QCtDNk12vV66wB1RskTNcrCn/ISP2JZzX2+PHx6v0wyAAIhmBgQDgPw4Kig36bt9mbvQ6AzeBshqXCnzdqxjR04n56X77BiDDtOR3RUBzP4QNgIgAro9vv/4NNnj+REQCa9PBhCX09uUveNEOtL7d0YdYfbnkPgk4QKFMmlyvyNXzd2nhoaphTGUdKLb0/sPTzciICR75gZMt9uEBvKVjoCSGRHKNiZJLmfbPZWVPwLAFF8yF6363W2MlDWH6p7uruSKLSEBwDwFUM1PH99/XM5oCr70ME8G0B4qyGMVfo8LEkQo/Y1RHYnKqFLhaqHJNpCfTSBLZ0VWR1TySeoVubYW20wIAHMgEfT07v3TdXZu0PKkkoBoRqlf+qDMBwad91d5LJB0iW7WfrFApR2oXVvK1XuLkDff9J1mASEB3ZYmCOD6/t3TzX24gZZE++WN2UBZwaesl7+YXC8XCBXwqXhZr0R0Q4T8kUtRPCt3x3nvgrGQqR/K0iELEYkh0qJoEejqec0f3z/daPYxHQWPwe239BrdOIBcuS+sQ9Wr59aQTTdcT54FKMJTie0cjZWn6S149mBf8DJL0VqSQUgw3/zQ3z48OsydnJNbn6fZAIlbXjVyGcdrFdSVz3mkFhCApvXufSs1b60MxZhNH0WllkIdZZuqeEmH2zQutZ4eJ8okk2D5jqa4zG5VQuK6R2u0aXyefFG91s2mIouDDdMMCOD3tLWqda53ozB7hOIsdWn3TUOFa6Y/4h2madnPPT9eJ/+dJM8KCdBAhKqibUar+wwMUN8eric6wfd/nr1u1wRpQkpEmU2Xyy/RzN01vrZ62B8kXN336Wn9Ci4Go4nLF3Ozh3Jxa+E3t8NV/GCmuUysoU7JXw0lCsYv/2Yhm05Mk0T7PD17hlRgoG2oTPoqwliFnrQ7HwjJL8nd/BcSrEL0qBkEQii/EkHoFWsEebxQszAn1Gn4FuWeYu4UWRSy9Us6QnHnTAurHas0VF/tKgAAedCXz1p698ehZLCoqcgZ7UzThr2JvSxplaeN0pkVtoEF6dZ4YqykC/3Q3krfLa+1BEUDZfEIZB1dDOZAp9tESOEzBYuO24ygVrXpt9ZiXR3CLYl75AWIrWQXYRIGm/+EqKpD0rWldw3JNAU0zeHi5SKEkj4v/nwweui+h14hCqcjQeoOxiX9/6UihXYKiXGe3SzlLHsBbY2cWxIk/b5yrmBVE8fVq3KH5vr68+w1fjpCuSAFLWKcQwAwzQTZoXKBoMdbZKXBSNuT7o3DnMAYLlwThJ5PSCmSdLF0L7b9c0JV0+Lox8Q+RSXrxS8YB6oR/SN3TQRCAHR9vM5gzDC6Q6EjXe9PAyqwUKfKpgCN91YBGlR8YQyru2ELtIeXli27eY9cWdn5z+QP6ZhnF6hh2EmkeTKIQMh9/Yyj6f27KyHg8OrVxbioPOqAKkZnjLZYKvThF65m8L4c571rfDmbsTZd+C5bhYvEe2P53HKVKztJX7XwNLuZEIbpCDA90QDgTugSiPzUo9vHjzMAwkThaya+8WjxTmfXtZC7awQAGKwBy0amVcOvabmkqxXrNor995Rlu6SD/1ziPKM7nSLki0BXMghojCzqBEHkNt/mxVWb5+WZ7Nq+cpGKw5yy8YsiQ/8Xl+8WOI0VuxbJLxGTyO2wf8aSfmqAdsMs6Dcwi6S7VblFGCeK3Cxai85Xg4jGzMKcCl5EBiCiGeyp0ABEkHptDZjnyMe4U/xPkEwIYILvO3DSnczGUneWzDEuqLiT7UKuYVIR9RUdL9JO0mn2Rj5uCoFgRkS6TRCm8a36n27xNipHmKl77hbiJT1/QW62hmlpUU8GbYiCrstB7/Nf/HVMit2wNdplFnQx9WNn32A0dpF1FmPnBeLZSbp6ii+fbFy3XRGCyRqJr1csMcPdeRtrDsnz3DjEK2KuQHLRemP6yRiJ9oJWzUeW9Ugx+mgGjX2F0W4ZXrdNJNUIgCbgKH2HPdxUbY2gx3wiozHqdknvep0AjEFjjO8CuskaNOdyEhZO1aTqndfvcp+CA0fGrJwalbtIeCN7NxqEDnSaJ/9ta8GrpdCmR7F37PSsm6oRHeYIQPN0gzk/YDUma6IJHt99vJH9RrMxZkDjvu6YFHainuOOiKF6rwduVQ9NPu+9yKCPGpnxsp6OlnvMZoz9fI/ddBB5cUlVEhw57wssmvk2uToGnZNAADTdJiqFAK5hAqB3v3yYwJ1H6D4QMwwPn13i3Rrhei/Ft8l+CbI0A/KrhEavZPSI3FnEW9oJYg/7DA3pNtuN7iCLugOdNcLoJG6+ed9pcR5siek2TeG7FRxZzGn69ZeP4TsYrhNmnL54iDdaU4I1xbCrvHetzmb2yPVgeqd5kEtk1pC3jWg/nk3TtGj3XNSduISABWY1fMmdgKYr2odzYKfTolZomicCsiv8xW6vmC8ziWDZrjfPw+tLGFMSBZs3w7mAzqaXZFv05oQeSue9V6rtQYz+7WjdFzEjAiCRVe/u8QkzoXGJ6tLW131vVvSuNyQDAMvJJsvsonmaiJDmOTjyBmI+9g9Nv/36SAlezmTTDIDkerlMoiXqjN+QJTDLOn8Odz4RVOa9ZtM52nMiqHiV7c8yjsMFAADmyUdXfAWE9SFs2AARrv4aENCTZYCIJpgiNM/2XanIMVgK4DqPiOYPvz2t0WP8qQ6TnF1G9HSdcbgMBnzosTJnDqZO55sk7OwY9IAuUzhDC5kqCj1sgYufDIQAw4iAANME6Hc/MiEbAALMuTWn9AST25NdpUc0JnCqyUb5RFzIFtoKenp/tfIZmWMr+ujCN6fcnz5eCczT5TIab0lcfxFheaTXjvozgF5pjMsX9XuLagcAcxkArEkH4F/QcykIc6LXvfO8vOtIAPS0fOwLcfAWGQDIviAHVPDkCIBoery6PfHBKx3LBMBhQM+TAKbH20wwT9fLwyuD8YodBEfDNqPOg77HGelbaI9JZwXdrs1Mk9XRIl8EgDn81ovD3Am6nQDzk39+Z4KDq9YVG3l/pV3YmSZAROufhdbYLreMUZhPV7uXk+hphldD4OEhRJ+PYoS4A/WaI/epKRlZprPLeybGmnSayD/0JLYaAmAo6V7OI+1O0zVY6YueojqJDz77l/SYgGieAc3ir/sbQViuzSUStvlxXtYW6fZo0KxiTgBuIadP1Lku3ku970FsoB2keZOOhGj9OJrnBXNmZWv94QIkAL8SFtlcAHpctDcue2i9gPvezcB5i8scIkBjRTRbMUAAGC/RSuDTbbVG883eyardl3Wg1JkrgF5B/UWCvoyH3i9AwNEqxWl586v0tBjRx2zelK+Y2+Gfn/zDO4OxLXBwzdzjVY854TBMdqduPjHwEh1k60wJACwbfCC4hUjSC3Gb3oN/eaCLsVaxkhmMXVGZhaU4R+gaoUjxWu3u8Zmv7sXnyKLDivq64w7jXH8PZjDs1mgCHC5DMM/gerPrPouoB6sI1r5YLlXQ1Qr+pYEuPrsqvqRAaEYAAJqXlXdfCQDyeY9EQW7WDgHMj07QwzckHH42h/HkloUWW8gM+dtTdrrg5RKym6/RoSf2+IwFdwRAY0IDlAl2FfSsFy8NdGH/2rI3Rq5nRiBAmqdg7xrxo4CAGATqUbC/yDHdbos8u83ytJxrEHCjzJNzmNtgwAzDlIQRy4W5jGGl6baKObiAcl1G9iF9zairRf2lgV76/EWhq1YJE91uhVLBIFGsdd0qnAvw56fZmX+v3RPrj3Yl1WUiOMxXpsOAqTsAVrs/mEW2CWA5TWH9QBMthsPrlWFZ36nrd17qs5F7caCD+PmLYiVjbMAzgT9nIvfl1sWxNU6PBH2Jzeh2dSNsTN4wLgfA8B92XXtvrF6ObQMhwMPDqliA5pvfALC4md4zsFXCMwRYLKuoZ6ATxlrr05OTmpYaBgHJrsGWC9px9QmsXZ6fPAA55uiWW1KbHq7BWuM9hA/dV8wHd3ClpWk5HdALMgWcEADHNWaLe9MPulTp05IzaNriBgHsY1XRL1gZy6ePWEG/3pLNlgkLb2+zyRO3bAzGhawSujxElv5GEUcEiNcLcVk1zb2aTaDL2c3kXChduUpBDvm4g8tokBnQBWyKltfDtGPmy7L77JU7Mh9kdJJee9Hd1g/RXcIuEwv68ljQ9y33Dc0wR1Y9vJXoLwigVx25TaiHvSAmXawAANIMKHbIfcfKLpXG8ZrcpHuGyhQmBLo6Lw7i7Quew4J6Dno6Qdn3ZC8PUeI8r24IZKADAJhx4qOXHHQV5jtJenHVs4FLqy33zRgkJJpnxR5V9MaAE3QbQS3KXbIDuUAGTMILgya2z+As+orytG7uclMtfZ4+PgW3GnUjTa/A7/jxVkJP2FuxxE4JvZ8laBBoeXNxzRU1h39uFUYKXuOvR3gxch5ObiK3E5dpZYny1x1yjufFfXJreZSWunHLTAu44jj4F3HjG4EkmUGa6VwEugBcmFxc4dyP1nGVuxIl2Q1Nibrhgr/FPzPrqmYEOy3O9Mo5nNQULL1zSmCNglzknZXC0Vr09Q7d65a+hJvKfoUOhwsxA69R7ux8hBFXHyLP1STdlRS6enGQKFw4oTWbgn9dauSUJwoh3BKDrCJbc53LzvbSYu43UCwPcobLEBdzrmjQVPSABQDAjLd8o06Gq07MLehSzv1I4q2155n0IBgEu4XQzeBk6SEGzZgc9Vy5BLo9txruTBBbRTBK5F6q9HI6jGOMyPLmXdjN/NOfOA5TdtPpDz3me7zLpiEVw6CQ1pFfja87lmDNkE26GaJv4USPxbkFe6dnAVZVvBxqU7gxIoLoUTigGYZsSyQkR9VmYSISmCHdmyVjzkO+3h8L+g6Ar+vI3RzUBTC8Qmd7XSLnEyCOAzIjkko1ZxeT2GrdgBmeRmbXVBdPLnAZEM2QNkIzYhY85qpsmIgvkXaSgzy919R7b8NJLHxH48AMDwI4R9uranHaIeBgMC4VFkU0MzLpYI1G6Bm4jTEArFqh5JAiu5cao05R5HzaBoItcZ5MrDKyziF7yQKRSjqP1T3NewuVHBkHOfdQdSH/gByNWV8u82gF4OR7RZ3+QAjUGL9GG1UjXANwu7y3vpVmK8+BxVjLZffqHqnzOluAXIIeRyMJxX2w3sN4ZBfupqPzPaXKdu+apAYJwVB2mnBU0v01yZ6atWG/uxnXxSK7vOdQd1yICLKVwQwJAjTxIZhhOdY4pWYkqsV777sDvg9DfnD8n+B5oYC6IEgBm+VfElZ2wvLDUMpOAmtc/o/+ly21YO71DSEYv3jrMxCHfM036HCEezYuWcV9195z/nepmTspnJEGYIz2OuwsX6vC/X7aQuPoXAPGgSf7LAYJQ58Wecw9U/uwDTGy6e4MDDPEL2hg8m8J9ly9s0aiTPvNi1ZOyF+hUIBnEI+PXx5ZUkkaqoTR6okHJLjYxQmH0W8Ek8Rsi3dnMv7+Xhhhz24S3MQCfHab3sm01Dcxj/gyWRcikClAv9Sf1Y0Tb8m9fha+3Zp8CD1aZ7M50eNcF4wQGgyDQlc8xTy9m6x/tixj0/dHu42jUrGnlyKYTf1Au6obL9cEuYupRhR9A1+W0lmBwX8uKX7ivpxglmouQliX5EPNJMhz+iu56FLvvmi0rNzFRV+20M8yj+Y5bBHPH7+tF4sWznV1+eNTAeBWq4BbpnXvNWaTAgDAb8/iORYTmQKLemfezmkz7vpxbZxV1USFeDew94YuH5CkLq4nwSQ5zoOTOIRyTSZcm5HtROR2sKyK7WTgjknfP5Fu1yneYvlWFlJ+HGsxAm8B9VKOcTmERTQVjw+4ycFWK3TcuwdMQcbAERQduTvg38673qkqp9bbWMrno5KZUUGYKM+V28qmV++oK80fAjCO3F2g3kXalf3c6QYkXVLWisQUW3OKTeSOY2GBqHdA7dFJq6TvDPcO2pYvthvaivKpba/4SCWeZQsvPeHpoqLjg5yk30utb/KwpKytfqG+EuZJbW1yUquEV1zyaWg+TAolfX+022KAljL7cW5h0e2JbOtLY9WaaPDbpe7lwe0g7BUW23quDoH2aCznwK4MJAeEb1NtS9JLkPQuUW9gv7VWp6O7sZ00seQTlBx/brI+m03fzQA3da//Xrol+xOEP5q+hlHH3bz3Pf13Vdm9ta2OdXU74L1EqG94F0fuWeL0Nsa96n7vGir/UWC75zBuHrnEGy2tyKV+BscxXBRu8A06hmTfOdNaf3uctBupuJXATG16sy2trlbczRRu9eJ03vCzrwyoq3dJlk3CMd/c9xI0/KZKnbJQzNwE9i4DqvTNqyXQn3KgY9Ba8G5MNlZOV8dKjpqcVl0o6+5lq6+uyI1U8si967EraVnu1vQuLoVCr8tcthgFHcNe7e8fuLRV20gbuN7N6pT5b1GAuzusraaDK4/x0d97RDXPW/2eHLfY5j1lvXEySXmB+z5mr83XmPbR8zoM3bRR2nfx4fQeRg/2EEn6nUKr+zG5P2uel66F3Xx4taCrfYxM0j+Bht+Fw15UV46t9fdbgFDLeSUcLThyn2Ih6aU10RjLVUs091BlexsnauLIPWd49WzC7RvSnG7SZyUrxZpuVSysknOV9AuO3F4dfWYeu7ewbW1v68gq1uA6rFH7itx+zsid6dOtMm2QdDWEaUJT0IG5pP//qOHbaaM4ihnbQiSFlGu6s0r6Bl20E3gvdQ609KtXzBtGH6slyq1iatMVPXxGTbCF7tp8l+e+Bf6afm+SWBRDtmoPT/Gu19ggQ31OnI6b2pHbFLFq6aXOgI0avttKVmHtWUrK1Huv5movckd6EaFCYxwnl6g56s3SuO6Ra5+eew3tS5PuLf1Rr5XVC8meVkdUkDIYTXRyXXPndkbtpU2BkLa6sM1KFPNfNR4qCJkVuT7oldn3o5dlUrZoSWR+oqKesoFwC3ST87mLb/viaGsfe/z3arCF2b+bOgQt6n3D2o2WXta86O1NpwdXcAcwukTgj77Vc0doVO/PgH0DvZBp0uS/NQwvRn85ra9gyZS0izOC/97lkbwAID5JF5p1u2Z0Y9hVN6YwKNamJ7w1vPYe2BcwVwA2d6M9wKkFYCncbR0UIvHw/fQq2zzrbli9kEnAUX/80uAZ5+Fa3yIAyzEHvcJzT5d+V/qEzTcKg9LXy6W7fwUgKlwAvcT0pQbrAaV9CE9VrxTdqcUy7xaTnrnfnZ1xWSrQBT53wfZeEwZbeHd3olUWlSadL9pq3/0JxaPp/x5aT9Nt9BJURo3UstBiGCWw27QJW846cmrQ97Epd6YXEq9t9+NLQr5N/PSS3uWUvnzare+7WPTCqkvzOkBSjqx6J1y892hOCeecl/jVSa1L9Cyfg1q7IoTFjdwL+rytgbSYdWviOL3lFhuHowV0sYnWQ7F3J1Vbbf5Wmw9fqNQEXjvoXcPcg/q2hu80GxRse6KcmvLeijNAcPgZhk/ZFGx6h3IP0Hem3lvpsHrdoeKuwKP/w77W1KOQKvQCUU+pLfJpKbRBR9VtOp9aevoqv7XavJRUof8HULe0k7rbC3UV7HFy+tA00x8+ZGsQ+GbYpa2XHVReSe09GV1gt6mUCiwFWx2fOJ0/XN5/7nE02ffgNG3o7mL7qbPCB0Yl6nOZNpbW68Qe979o5uVkHvblS0GcTVe2I+W3Rfolat4W1EDNnBtHoVJJrUU7QYfCV2PEjZHblgF2oXtCHtCu6G81knXl0GtzwyCtELLp59Q96JkgD6mjwU7k5OT+lRh978snRhb43AGRvbywTdTXrELA9dHW3XFn1HurRc8K9wZnu8Fc7kBXMz0uGJuk1f8Ka9vALSnC7XtvNFodRXalRg+/t6i6dqekdk6Zckfy+Y+QrchhmbmuCwHFX3lnvxOgrr6hGyrawEclcTqx7FfuyjYhOlIsBPw+A7l7mPS8VO1Np0jvq98Vg8YdP5LAzquIF0hNzsT2e2iJwffT8GLD2htCyM6GDf9t5NZKnq+4Slv7KK1+x34vNYykKlGngLf4/hqFxJwYyev3ynfkt1CLyDTl34WKjW4RzE7HvtSIUHBMXPZY0nG/JdW86Z3pmZX7PuBv8P8bXfmwAHc2LCY/XxbFXbrXrFQ0rctUQ6OcE9vkHAABMJX0ZwJ7N/6cGXqOtktMWuDf36QrrCJ7CjQLfHOQ3UcooVZp/l4fD620X26uwVvZZBD0N40Adu099tEkUd9xNHvUZKXIM01Jsf1O+LfY9G4HWNhEgfElgLy9Zj9qZB53Dpe/96IWnOuelDZxd+/dumu5pAuivifem3hhcuGj/DsGlYUeKBvdaJXbp5esBsioJf3+1OaCpr+Lz9+3aoCqFHb2vZ6h9d/Vc48QjVrS96SqexleKL8b54S9q0GmPaUQtblQ2lQmo8ePZAuhDdkyL06Q9Hu/V6S/L86TK3amQdQ7gqi2MWj1+JoMrcafYL+fjkLtvfBtEvRGphsPm4gfBVd5SXjwvVC7anxea/WsLC2vp5pxmAVBF/jxe2u3UclvafwqaKv11jyzKQhfs32t30NZsDdyRgKEeUREAoTMnUuAb//gdkNvSkU1tRGKprg0EfpvpyDwDVy0BepaX5FP1pMz47/8A2I6c1HTq37aZpRaSCf3lVJaQWckpMaoXko5tcpDGvXnBj//XzqUH8sH0SjBAAAAAElFTkSuQmCC\" class=\"ndarray_image_preview\" /><pre class=\"ndarray_raw_data\">array([[  1,   1,   1, ...,   1,   1,   1],\n",
              "       [  1,   1,   1, ...,   1,   1,   1],\n",
              "       [  1,   1,   1, ...,   1,   1,   1],\n",
              "       ...,\n",
              "       [241, 239, 239, ..., 250, 250, 249],\n",
              "       [242, 240, 241, ..., 250, 251, 252],\n",
              "       [212, 240, 242, ..., 250, 251, 234]], dtype=uint8)</pre></div><script>\n",
              "      (() => {\n",
              "      const titles = ['show data', 'hide data'];\n",
              "      let index = 0\n",
              "      document.querySelector('#id-9336726a-79db-414b-95dd-6118dfc37590 button').onclick = (e) => {\n",
              "        document.querySelector('#id-9336726a-79db-414b-95dd-6118dfc37590').classList.toggle('show_array');\n",
              "        index = (++index) % 2;\n",
              "        document.querySelector('#id-9336726a-79db-414b-95dd-6118dfc37590 button').textContent = titles[index];\n",
              "        e.preventDefault();\n",
              "        e.stopPropagation();\n",
              "      }\n",
              "      })();\n",
              "    </script>"
            ]
          },
          "metadata": {},
          "execution_count": 7
        }
      ]
    },
    {
      "cell_type": "code",
      "source": [
        "from transformers import pipeline\n",
        "from PIL import Image\n",
        "import numpy as np\n",
        "import os\n",
        "\n",
        "# Load pipeline withCPU , put 0 if yiu have GPU\n",
        "pipe = pipeline(\n",
        "    task=\"depth-estimation\",\n",
        "    model=\"LiheYoung/depth-anything-small-hf\",\n",
        "    device=-1\n",
        ")\n",
        "\n",
        "input_dir = \"/content/images\"\n",
        "output_dir = \"/content/depth_maps/\"\n",
        "# combined_array_path = \"/content/combined_depth_arrays.npy\"\n",
        "\n",
        "os.makedirs(output_dir, exist_ok=True)\n",
        "\n",
        "all_depth_arrays = []\n",
        "\n",
        "image_files = [f for f in os.listdir(input_dir) if f.endswith(('.jpg', '.png', '.jpeg'))]\n",
        "\n",
        "for idx, image_file in enumerate(image_files):\n",
        "    image_path = os.path.join(input_dir, image_file)\n",
        "\n",
        "    try:\n",
        "        image = Image.open(image_path).convert(\"RGB\")\n",
        "\n",
        "        depth = pipe(image)[\"depth\"]\n",
        "\n",
        "        depth_array = np.array(depth)\n",
        "\n",
        "        depth_normalized = (depth_array - depth_array.min()) / (depth_array.max() - depth_array.min())\n",
        "\n",
        "        depth_gray = (depth_normalized * 255).astype(np.uint8)\n",
        "        depth_image = Image.fromarray(depth_gray)\n",
        "        depth_image.save(os.path.join(output_dir, f\"depth_map_{idx+1}.png\"))\n",
        "\n",
        "        all_depth_arrays.append(depth_array)\n",
        "\n",
        "        print(f\"Processed {image_file} ({idx+1}/{len(image_files)})\")\n",
        "\n",
        "    except Exception as e:\n",
        "        print(f\"Error processing {image_file}: {e}\")\n",
        "\n",
        "# Convert list of depth arrays to a single combined NumPy array\n",
        "combined_depth_arrays = np.array(all_depth_arrays)\n",
        "\n",
        "# Save the combined depth arrays as a .npy file\n",
        "# np.save(combined_array_path, combined_depth_arrays)\n",
        "\n",
        "print(\"Depth estimation completed for all images!\")\n"
      ],
      "metadata": {
        "colab": {
          "base_uri": "https://localhost:8080/"
        },
        "id": "C9Uzuth1dZVk",
        "outputId": "63f8aaa8-c713-4793-8279-443943900d52"
      },
      "execution_count": null,
      "outputs": [
        {
          "output_type": "stream",
          "name": "stdout",
          "text": [
            "Processed n008-2018-05-21-11-06-59-0400__CAM_FRONT__1526915639012465.jpg (1/100)\n",
            "Processed n008-2018-05-21-11-06-59-0400__CAM_FRONT__1526915362912465.jpg (2/100)\n",
            "Processed n008-2018-05-21-11-06-59-0400__CAM_FRONT__1526915381512465.jpg (3/100)\n",
            "Processed n008-2018-05-21-11-06-59-0400__CAM_FRONT__1526915629862465.jpg (4/100)\n",
            "Processed n008-2018-05-21-11-06-59-0400__CAM_FRONT__1526915328012465.jpg (5/100)\n",
            "Processed n008-2018-05-21-11-06-59-0400__CAM_FRONT__1526915322512465.jpg (6/100)\n",
            "Processed n008-2018-05-21-11-06-59-0400__CAM_FRONT__1526915325512465.jpg (7/100)\n",
            "Processed n008-2018-05-21-11-06-59-0400__CAM_FRONT__1526915652912465.jpg (8/100)\n",
            "Processed n008-2018-05-21-11-06-59-0400__CAM_FRONT__1526915678512916.jpg (9/100)\n",
            "Processed n008-2018-05-21-11-06-59-0400__CAM_FRONT__1526915663912465.jpg (10/100)\n",
            "Processed n008-2018-05-21-11-06-59-0400__CAM_FRONT__1526915372412465.jpg (11/100)\n",
            "Processed n008-2018-05-21-11-06-59-0400__CAM_FRONT__1526915455012465.jpg (12/100)\n",
            "Processed n008-2018-05-21-11-06-59-0400__CAM_FRONT__1526915428762465.jpg (13/100)\n",
            "Processed n008-2018-05-21-11-06-59-0400__CAM_FRONT__1526915660012465.jpg (14/100)\n",
            "Processed n008-2018-05-21-11-06-59-0400__CAM_FRONT__1526915698412465.jpg (15/100)\n",
            "Processed n008-2018-05-21-11-06-59-0400__CAM_FRONT__1526915691362465.jpg (16/100)\n",
            "Processed n008-2018-05-21-11-06-59-0400__CAM_FRONT__1526915252362465.jpg (17/100)\n",
            "Processed n008-2018-05-21-11-06-59-0400__CAM_FRONT__1526915622862465.jpg (18/100)\n",
            "Processed n008-2018-05-21-11-06-59-0400__CAM_FRONT__1526915709862465.jpg (19/100)\n",
            "Processed n008-2018-05-21-11-06-59-0400__CAM_FRONT__1526915378012465.jpg (20/100)\n",
            "Processed n008-2018-05-21-11-06-59-0400__CAM_FRONT__1526915290412465.jpg (21/100)\n",
            "Processed n008-2018-05-21-11-06-59-0400__CAM_FRONT__1526915415012465.jpg (22/100)\n",
            "Processed n008-2018-05-21-11-06-59-0400__CAM_FRONT__1526915291412465.jpg (23/100)\n",
            "Processed n008-2018-05-21-11-06-59-0400__CAM_FRONT__1526915795262465.jpg (24/100)\n",
            "Processed n008-2018-05-21-11-06-59-0400__CAM_FRONT__1526915702362465.jpg (25/100)\n",
            "Processed n008-2018-07-26-12-13-50-0400__CAM_FRONT__1532621789662404.jpg (26/100)\n",
            "Processed n008-2018-05-21-11-06-59-0400__CAM_FRONT__1526915647912465.jpg (27/100)\n",
            "Processed n008-2018-07-26-12-13-50-0400__CAM_FRONT__1532621751612404.jpg (28/100)\n",
            "Processed n008-2018-05-21-11-06-59-0400__CAM_FRONT__1526915359412465.jpg (29/100)\n",
            "Processed n008-2018-05-21-11-06-59-0400__CAM_FRONT__1526915457012465.jpg (30/100)\n",
            "Processed n008-2018-05-21-11-06-59-0400__CAM_FRONT__1526915675162465.jpg (31/100)\n",
            "Processed n008-2018-05-21-11-06-59-0400__CAM_FRONT__1526915283912465.jpg (32/100)\n",
            "Processed n008-2018-05-21-11-06-59-0400__CAM_FRONT__1526915431262465.jpg (33/100)\n",
            "Processed n008-2018-05-21-11-06-59-0400__CAM_FRONT__1526915284912465.jpg (34/100)\n",
            "Processed n008-2018-05-21-11-06-59-0400__CAM_FRONT__1526915465362465.jpg (35/100)\n",
            "Processed n008-2018-05-21-11-06-59-0400__CAM_FRONT__1526915292412465.jpg (36/100)\n",
            "Processed n008-2018-07-26-12-13-50-0400__CAM_FRONT__1532621793612404.jpg (37/100)\n",
            "Processed n008-2018-05-21-11-06-59-0400__CAM_FRONT__1526915641012465.jpg (38/100)\n",
            "Processed n008-2018-05-21-11-06-59-0400__CAM_FRONT__1526915356412465.jpg (39/100)\n",
            "Processed n008-2018-05-21-11-06-59-0400__CAM_FRONT__1526915680512465.jpg (40/100)\n",
            "Processed n008-2018-05-21-11-06-59-0400__CAM_FRONT__1526915254912465.jpg (41/100)\n",
            "Processed n008-2018-07-26-12-13-50-0400__CAM_FRONT__1532621705112404.jpg (42/100)\n",
            "Processed n008-2018-05-21-11-06-59-0400__CAM_FRONT__1526915720512465.jpg (43/100)\n",
            "Processed n008-2018-05-21-11-06-59-0400__CAM_FRONT__1526915244512465.jpg (44/100)\n",
            "Processed n008-2018-05-21-11-06-59-0400__CAM_FRONT__1526915264912465.jpg (45/100)\n",
            "Processed n008-2018-05-21-11-06-59-0400__CAM_FRONT__1526915382012465.jpg (46/100)\n",
            "Processed n008-2018-05-21-11-06-59-0400__CAM_FRONT__1526915273012465.jpg (47/100)\n",
            "Processed n008-2018-05-21-11-06-59-0400__CAM_FRONT__1526915333112465.jpg (48/100)\n",
            "Processed n008-2018-05-21-11-06-59-0400__CAM_FRONT__1526915364412465.jpg (49/100)\n",
            "Processed n008-2018-07-26-12-13-50-0400__CAM_FRONT__1532621757662404.jpg (50/100)\n",
            "Processed n008-2018-05-21-11-06-59-0400__CAM_FRONT__1526915460412465.jpg (51/100)\n",
            "Processed n008-2018-05-21-11-06-59-0400__CAM_FRONT__1526915423512465.jpg (52/100)\n",
            "Processed n008-2018-05-21-11-06-59-0400__CAM_FRONT__1526915426362465.jpg (53/100)\n",
            "Processed n008-2018-05-21-11-06-59-0400__CAM_FRONT__1526915419012465.jpg (54/100)\n",
            "Processed n008-2018-05-21-11-06-59-0400__CAM_FRONT__1526915787162465.jpg (55/100)\n",
            "Processed n008-2018-05-21-11-06-59-0400__CAM_FRONT__1526915294412465.jpg (56/100)\n",
            "Processed n008-2018-05-21-11-06-59-0400__CAM_FRONT__1526915669262465.jpg (57/100)\n",
            "Processed n008-2018-07-26-12-13-50-0400__CAM_FRONT__1532621764162404.jpg (58/100)\n",
            "Processed n008-2018-05-21-11-06-59-0400__CAM_FRONT__1526915261412465.jpg (59/100)\n",
            "Processed n008-2018-05-21-11-06-59-0400__CAM_FRONT__1526915246912465.jpg (60/100)\n",
            "Processed n008-2018-05-21-11-06-59-0400__CAM_FRONT__1526915705412465.jpg (61/100)\n",
            "Processed n008-2018-05-21-11-06-59-0400__CAM_FRONT__1526915277512465.jpg (62/100)\n",
            "Processed n008-2018-05-21-11-06-59-0400__CAM_FRONT__1526915257412465.jpg (63/100)\n",
            "Processed n008-2018-05-21-11-06-59-0400__CAM_FRONT__1526915618912465.jpg (64/100)\n",
            "Processed n008-2018-05-21-11-06-59-0400__CAM_FRONT__1526915684912465.jpg (65/100)\n",
            "Processed n008-2018-05-21-11-06-59-0400__CAM_FRONT__1526915712912465.jpg (66/100)\n",
            "Processed n008-2018-05-21-11-06-59-0400__CAM_FRONT__1526915417512465.jpg (67/100)\n",
            "Processed n008-2018-05-21-11-06-59-0400__CAM_FRONT__1526915467912465.jpg (68/100)\n",
            "Processed n008-2018-05-21-11-06-59-0400__CAM_FRONT__1526915658012465.jpg (69/100)\n",
            "Processed n008-2018-05-21-11-06-59-0400__CAM_FRONT__1526915357412465.jpg (70/100)\n",
            "Processed n008-2018-05-21-11-06-59-0400__CAM_FRONT__1526915694912465.jpg (71/100)\n",
            "Processed n008-2018-05-21-11-06-59-0400__CAM_FRONT__1526915778112465.jpg (72/100)\n",
            "Processed n008-2018-05-21-11-06-59-0400__CAM_FRONT__1526915458912465.jpg (73/100)\n",
            "Processed n008-2018-05-21-11-06-59-0400__CAM_FRONT__1526915642512465.jpg (74/100)\n",
            "Processed n008-2018-07-26-12-13-50-0400__CAM_FRONT__1532621700162404.jpg (75/100)\n",
            "Processed n008-2018-07-26-12-13-50-0400__CAM_FRONT__1532621692662404.jpg (76/100)\n",
            "Processed n008-2018-05-21-11-06-59-0400__CAM_FRONT__1526915383012465.jpg (77/100)\n",
            "Processed n008-2018-05-21-11-06-59-0400__CAM_FRONT__1526915269912465.jpg (78/100)\n",
            "Processed n008-2018-05-21-11-06-59-0400__CAM_FRONT__1526915725912465.jpg (79/100)\n",
            "Processed n008-2018-05-21-11-06-59-0400__CAM_FRONT__1526915734912465.jpg (80/100)\n",
            "Processed n008-2018-05-21-11-06-59-0400__CAM_FRONT__1526915249362465.jpg (81/100)\n",
            "Processed n008-2018-05-21-11-06-59-0400__CAM_FRONT__1526915720912465.jpg (82/100)\n",
            "Processed n008-2018-05-21-11-06-59-0400__CAM_FRONT__1526915729912465.jpg (83/100)\n",
            "Processed n008-2018-07-26-12-13-50-0400__CAM_FRONT__1532621749612404.jpg (84/100)\n",
            "Processed n008-2018-05-21-11-06-59-0400__CAM_FRONT__1526915793762465.jpg (85/100)\n",
            "Processed n008-2018-05-21-11-06-59-0400__CAM_FRONT__1526915420512465.jpg (86/100)\n",
            "Processed n008-2018-05-21-11-06-59-0400__CAM_FRONT__1526915360412465.jpg (87/100)\n",
            "Processed n008-2018-05-21-11-06-59-0400__CAM_FRONT__1526915780162465.jpg (88/100)\n",
            "Processed n008-2018-05-21-11-06-59-0400__CAM_FRONT__1526915672762477.jpg (89/100)\n",
            "Processed n008-2018-05-21-11-06-59-0400__CAM_FRONT__1526915378512465.jpg (90/100)\n",
            "Processed n008-2018-05-21-11-06-59-0400__CAM_FRONT__1526915624362465.jpg (91/100)\n",
            "Processed n008-2018-05-21-11-06-59-0400__CAM_FRONT__1526915470412465.jpg (92/100)\n",
            "Processed n008-2018-05-21-11-06-59-0400__CAM_FRONT__1526915689362465.jpg (93/100)\n",
            "Processed n008-2018-05-21-11-06-59-0400__CAM_FRONT__1526915790162465.jpg (94/100)\n",
            "Processed n008-2018-05-21-11-06-59-0400__CAM_FRONT__1526915387112923.jpg (95/100)\n",
            "Processed n008-2018-07-26-12-13-50-0400__CAM_FRONT__1532621696662404.jpg (96/100)\n",
            "Processed n008-2018-05-21-11-06-59-0400__CAM_FRONT__1526915453012465.jpg (97/100)\n",
            "Processed n008-2018-05-21-11-06-59-0400__CAM_FRONT__1526915286412465.jpg (98/100)\n",
            "Processed n008-2018-05-21-11-06-59-0400__CAM_FRONT__1526915368412465.jpg (99/100)\n",
            "Processed n008-2018-05-21-11-06-59-0400__CAM_FRONT__1526915296862465.jpg (100/100)\n",
            "Depth estimation completed for all images!\n"
          ]
        }
      ]
    },
    {
      "cell_type": "code",
      "source": [
        "combined_array_path = \"/content/combined_depth_arrays.npy\"\n",
        "\n",
        "# Save the combined depth arrays as a .npy file\n",
        "np.save(combined_array_path, combined_depth_arrays)"
      ],
      "metadata": {
        "id": "apFijLl0gRzE"
      },
      "execution_count": null,
      "outputs": []
    },
    {
      "cell_type": "code",
      "source": [],
      "metadata": {
        "id": "Lec8S-xlhGB2"
      },
      "execution_count": null,
      "outputs": []
    }
  ]
}